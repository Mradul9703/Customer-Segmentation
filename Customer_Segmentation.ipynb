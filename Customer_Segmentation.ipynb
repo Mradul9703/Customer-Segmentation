{
  "nbformat": 4,
  "nbformat_minor": 0,
  "metadata": {
    "colab": {
      "provenance": []
    },
    "kernelspec": {
      "name": "python3",
      "display_name": "Python 3"
    },
    "language_info": {
      "name": "python"
    }
  },
  "cells": [
    {
      "cell_type": "markdown",
      "source": [
        "# Customer Segmentation using Clustering\n",
        "This notebook performs customer segmentation using unsupervised learning techniques. The goal is to identify distinct customer groups based on their purchasing behavior."
      ],
      "metadata": {
        "id": "d-Uf0inGkO-Y"
      }
    },
    {
      "cell_type": "markdown",
      "source": [
        "####-- Import dependencies --"
      ],
      "metadata": {
        "id": "Iif0nkz1uYMZ"
      }
    },
    {
      "cell_type": "code",
      "source": [
        "import numpy as np\n",
        "import pandas as pd\n",
        "import matplotlib.pyplot as plt\n",
        "import seaborn as sns\n",
        "import plotly.express as px\n",
        "from sklearn.preprocessing import StandardScaler\n",
        "from sklearn.feature_extraction.text import TfidfVectorizer\n",
        "import datetime as dt\n",
        "from sklearn.cluster import KMeans, AgglomerativeClustering, DBSCAN, MeanShift\n",
        "from sklearn.metrics import silhouette_score\n",
        "from sklearn.decomposition import PCA"
      ],
      "metadata": {
        "id": "Bek2upN_udH5"
      },
      "execution_count": 467,
      "outputs": []
    },
    {
      "cell_type": "markdown",
      "source": [
        "####-- Load Dataset --"
      ],
      "metadata": {
        "id": "mVQ5jq8mxW-M"
      }
    },
    {
      "cell_type": "code",
      "source": [
        "data = pd.read_excel('Online Retail.xlsx', engine='openpyxl')"
      ],
      "metadata": {
        "id": "XelbBG2_u3It"
      },
      "execution_count": 468,
      "outputs": []
    },
    {
      "cell_type": "markdown",
      "source": [
        "####-- Initial Data Exploration --"
      ],
      "metadata": {
        "id": "SLzTFFZikjPN"
      }
    },
    {
      "cell_type": "code",
      "source": [
        "df = data.copy()"
      ],
      "metadata": {
        "id": "X8FGfafnijmT"
      },
      "execution_count": null,
      "outputs": []
    },
    {
      "cell_type": "code",
      "source": [
        "df.shape"
      ],
      "metadata": {
        "id": "9uRkVrFxyStN",
        "colab": {
          "base_uri": "https://localhost:8080/"
        },
        "outputId": "2d61e007-f207-40b2-ca8c-c14e8f876a88"
      },
      "execution_count": 469,
      "outputs": [
        {
          "output_type": "execute_result",
          "data": {
            "text/plain": [
              "(541909, 8)"
            ]
          },
          "metadata": {},
          "execution_count": 469
        }
      ]
    },
    {
      "cell_type": "code",
      "source": [
        "df.head()"
      ],
      "metadata": {
        "id": "u79eqCmfxjeU",
        "colab": {
          "base_uri": "https://localhost:8080/",
          "height": 538
        },
        "outputId": "fdb0425c-f21e-4b87-ba67-8d1643f0e6ef"
      },
      "execution_count": 470,
      "outputs": [
        {
          "output_type": "execute_result",
          "data": {
            "text/plain": [
              "  InvoiceNo StockCode                          Description  Quantity  \\\n",
              "0    536365    85123A   WHITE HANGING HEART T-LIGHT HOLDER         6   \n",
              "1    536365     71053                  WHITE METAL LANTERN         6   \n",
              "2    536365    84406B       CREAM CUPID HEARTS COAT HANGER         8   \n",
              "3    536365    84029G  KNITTED UNION FLAG HOT WATER BOTTLE         6   \n",
              "4    536365    84029E       RED WOOLLY HOTTIE WHITE HEART.         6   \n",
              "\n",
              "          InvoiceDate  UnitPrice  CustomerID         Country  \n",
              "0 2010-12-01 08:26:00       2.55     17850.0  United Kingdom  \n",
              "1 2010-12-01 08:26:00       3.39     17850.0  United Kingdom  \n",
              "2 2010-12-01 08:26:00       2.75     17850.0  United Kingdom  \n",
              "3 2010-12-01 08:26:00       3.39     17850.0  United Kingdom  \n",
              "4 2010-12-01 08:26:00       3.39     17850.0  United Kingdom  "
            ],
            "text/html": [
              "\n",
              "  <div id=\"df-04aece6a-bc4a-47d1-a505-854b0826b46d\" class=\"colab-df-container\">\n",
              "    <div>\n",
              "<style scoped>\n",
              "    .dataframe tbody tr th:only-of-type {\n",
              "        vertical-align: middle;\n",
              "    }\n",
              "\n",
              "    .dataframe tbody tr th {\n",
              "        vertical-align: top;\n",
              "    }\n",
              "\n",
              "    .dataframe thead th {\n",
              "        text-align: right;\n",
              "    }\n",
              "</style>\n",
              "<table border=\"1\" class=\"dataframe\">\n",
              "  <thead>\n",
              "    <tr style=\"text-align: right;\">\n",
              "      <th></th>\n",
              "      <th>InvoiceNo</th>\n",
              "      <th>StockCode</th>\n",
              "      <th>Description</th>\n",
              "      <th>Quantity</th>\n",
              "      <th>InvoiceDate</th>\n",
              "      <th>UnitPrice</th>\n",
              "      <th>CustomerID</th>\n",
              "      <th>Country</th>\n",
              "    </tr>\n",
              "  </thead>\n",
              "  <tbody>\n",
              "    <tr>\n",
              "      <th>0</th>\n",
              "      <td>536365</td>\n",
              "      <td>85123A</td>\n",
              "      <td>WHITE HANGING HEART T-LIGHT HOLDER</td>\n",
              "      <td>6</td>\n",
              "      <td>2010-12-01 08:26:00</td>\n",
              "      <td>2.55</td>\n",
              "      <td>17850.0</td>\n",
              "      <td>United Kingdom</td>\n",
              "    </tr>\n",
              "    <tr>\n",
              "      <th>1</th>\n",
              "      <td>536365</td>\n",
              "      <td>71053</td>\n",
              "      <td>WHITE METAL LANTERN</td>\n",
              "      <td>6</td>\n",
              "      <td>2010-12-01 08:26:00</td>\n",
              "      <td>3.39</td>\n",
              "      <td>17850.0</td>\n",
              "      <td>United Kingdom</td>\n",
              "    </tr>\n",
              "    <tr>\n",
              "      <th>2</th>\n",
              "      <td>536365</td>\n",
              "      <td>84406B</td>\n",
              "      <td>CREAM CUPID HEARTS COAT HANGER</td>\n",
              "      <td>8</td>\n",
              "      <td>2010-12-01 08:26:00</td>\n",
              "      <td>2.75</td>\n",
              "      <td>17850.0</td>\n",
              "      <td>United Kingdom</td>\n",
              "    </tr>\n",
              "    <tr>\n",
              "      <th>3</th>\n",
              "      <td>536365</td>\n",
              "      <td>84029G</td>\n",
              "      <td>KNITTED UNION FLAG HOT WATER BOTTLE</td>\n",
              "      <td>6</td>\n",
              "      <td>2010-12-01 08:26:00</td>\n",
              "      <td>3.39</td>\n",
              "      <td>17850.0</td>\n",
              "      <td>United Kingdom</td>\n",
              "    </tr>\n",
              "    <tr>\n",
              "      <th>4</th>\n",
              "      <td>536365</td>\n",
              "      <td>84029E</td>\n",
              "      <td>RED WOOLLY HOTTIE WHITE HEART.</td>\n",
              "      <td>6</td>\n",
              "      <td>2010-12-01 08:26:00</td>\n",
              "      <td>3.39</td>\n",
              "      <td>17850.0</td>\n",
              "      <td>United Kingdom</td>\n",
              "    </tr>\n",
              "  </tbody>\n",
              "</table>\n",
              "</div>\n",
              "    <div class=\"colab-df-buttons\">\n",
              "\n",
              "  <div class=\"colab-df-container\">\n",
              "    <button class=\"colab-df-convert\" onclick=\"convertToInteractive('df-04aece6a-bc4a-47d1-a505-854b0826b46d')\"\n",
              "            title=\"Convert this dataframe to an interactive table.\"\n",
              "            style=\"display:none;\">\n",
              "\n",
              "  <svg xmlns=\"http://www.w3.org/2000/svg\" height=\"24px\" viewBox=\"0 -960 960 960\">\n",
              "    <path d=\"M120-120v-720h720v720H120Zm60-500h600v-160H180v160Zm220 220h160v-160H400v160Zm0 220h160v-160H400v160ZM180-400h160v-160H180v160Zm440 0h160v-160H620v160ZM180-180h160v-160H180v160Zm440 0h160v-160H620v160Z\"/>\n",
              "  </svg>\n",
              "    </button>\n",
              "\n",
              "  <style>\n",
              "    .colab-df-container {\n",
              "      display:flex;\n",
              "      gap: 12px;\n",
              "    }\n",
              "\n",
              "    .colab-df-convert {\n",
              "      background-color: #E8F0FE;\n",
              "      border: none;\n",
              "      border-radius: 50%;\n",
              "      cursor: pointer;\n",
              "      display: none;\n",
              "      fill: #1967D2;\n",
              "      height: 32px;\n",
              "      padding: 0 0 0 0;\n",
              "      width: 32px;\n",
              "    }\n",
              "\n",
              "    .colab-df-convert:hover {\n",
              "      background-color: #E2EBFA;\n",
              "      box-shadow: 0px 1px 2px rgba(60, 64, 67, 0.3), 0px 1px 3px 1px rgba(60, 64, 67, 0.15);\n",
              "      fill: #174EA6;\n",
              "    }\n",
              "\n",
              "    .colab-df-buttons div {\n",
              "      margin-bottom: 4px;\n",
              "    }\n",
              "\n",
              "    [theme=dark] .colab-df-convert {\n",
              "      background-color: #3B4455;\n",
              "      fill: #D2E3FC;\n",
              "    }\n",
              "\n",
              "    [theme=dark] .colab-df-convert:hover {\n",
              "      background-color: #434B5C;\n",
              "      box-shadow: 0px 1px 3px 1px rgba(0, 0, 0, 0.15);\n",
              "      filter: drop-shadow(0px 1px 2px rgba(0, 0, 0, 0.3));\n",
              "      fill: #FFFFFF;\n",
              "    }\n",
              "  </style>\n",
              "\n",
              "    <script>\n",
              "      const buttonEl =\n",
              "        document.querySelector('#df-04aece6a-bc4a-47d1-a505-854b0826b46d button.colab-df-convert');\n",
              "      buttonEl.style.display =\n",
              "        google.colab.kernel.accessAllowed ? 'block' : 'none';\n",
              "\n",
              "      async function convertToInteractive(key) {\n",
              "        const element = document.querySelector('#df-04aece6a-bc4a-47d1-a505-854b0826b46d');\n",
              "        const dataTable =\n",
              "          await google.colab.kernel.invokeFunction('convertToInteractive',\n",
              "                                                    [key], {});\n",
              "        if (!dataTable) return;\n",
              "\n",
              "        const docLinkHtml = 'Like what you see? Visit the ' +\n",
              "          '<a target=\"_blank\" href=https://colab.research.google.com/notebooks/data_table.ipynb>data table notebook</a>'\n",
              "          + ' to learn more about interactive tables.';\n",
              "        element.innerHTML = '';\n",
              "        dataTable['output_type'] = 'display_data';\n",
              "        await google.colab.output.renderOutput(dataTable, element);\n",
              "        const docLink = document.createElement('div');\n",
              "        docLink.innerHTML = docLinkHtml;\n",
              "        element.appendChild(docLink);\n",
              "      }\n",
              "    </script>\n",
              "  </div>\n",
              "\n",
              "\n",
              "    <div id=\"df-87386f43-f82e-43d1-a854-a01b12a2e65c\">\n",
              "      <button class=\"colab-df-quickchart\" onclick=\"quickchart('df-87386f43-f82e-43d1-a854-a01b12a2e65c')\"\n",
              "                title=\"Suggest charts\"\n",
              "                style=\"display:none;\">\n",
              "\n",
              "<svg xmlns=\"http://www.w3.org/2000/svg\" height=\"24px\"viewBox=\"0 0 24 24\"\n",
              "     width=\"24px\">\n",
              "    <g>\n",
              "        <path d=\"M19 3H5c-1.1 0-2 .9-2 2v14c0 1.1.9 2 2 2h14c1.1 0 2-.9 2-2V5c0-1.1-.9-2-2-2zM9 17H7v-7h2v7zm4 0h-2V7h2v10zm4 0h-2v-4h2v4z\"/>\n",
              "    </g>\n",
              "</svg>\n",
              "      </button>\n",
              "\n",
              "<style>\n",
              "  .colab-df-quickchart {\n",
              "      --bg-color: #E8F0FE;\n",
              "      --fill-color: #1967D2;\n",
              "      --hover-bg-color: #E2EBFA;\n",
              "      --hover-fill-color: #174EA6;\n",
              "      --disabled-fill-color: #AAA;\n",
              "      --disabled-bg-color: #DDD;\n",
              "  }\n",
              "\n",
              "  [theme=dark] .colab-df-quickchart {\n",
              "      --bg-color: #3B4455;\n",
              "      --fill-color: #D2E3FC;\n",
              "      --hover-bg-color: #434B5C;\n",
              "      --hover-fill-color: #FFFFFF;\n",
              "      --disabled-bg-color: #3B4455;\n",
              "      --disabled-fill-color: #666;\n",
              "  }\n",
              "\n",
              "  .colab-df-quickchart {\n",
              "    background-color: var(--bg-color);\n",
              "    border: none;\n",
              "    border-radius: 50%;\n",
              "    cursor: pointer;\n",
              "    display: none;\n",
              "    fill: var(--fill-color);\n",
              "    height: 32px;\n",
              "    padding: 0;\n",
              "    width: 32px;\n",
              "  }\n",
              "\n",
              "  .colab-df-quickchart:hover {\n",
              "    background-color: var(--hover-bg-color);\n",
              "    box-shadow: 0 1px 2px rgba(60, 64, 67, 0.3), 0 1px 3px 1px rgba(60, 64, 67, 0.15);\n",
              "    fill: var(--button-hover-fill-color);\n",
              "  }\n",
              "\n",
              "  .colab-df-quickchart-complete:disabled,\n",
              "  .colab-df-quickchart-complete:disabled:hover {\n",
              "    background-color: var(--disabled-bg-color);\n",
              "    fill: var(--disabled-fill-color);\n",
              "    box-shadow: none;\n",
              "  }\n",
              "\n",
              "  .colab-df-spinner {\n",
              "    border: 2px solid var(--fill-color);\n",
              "    border-color: transparent;\n",
              "    border-bottom-color: var(--fill-color);\n",
              "    animation:\n",
              "      spin 1s steps(1) infinite;\n",
              "  }\n",
              "\n",
              "  @keyframes spin {\n",
              "    0% {\n",
              "      border-color: transparent;\n",
              "      border-bottom-color: var(--fill-color);\n",
              "      border-left-color: var(--fill-color);\n",
              "    }\n",
              "    20% {\n",
              "      border-color: transparent;\n",
              "      border-left-color: var(--fill-color);\n",
              "      border-top-color: var(--fill-color);\n",
              "    }\n",
              "    30% {\n",
              "      border-color: transparent;\n",
              "      border-left-color: var(--fill-color);\n",
              "      border-top-color: var(--fill-color);\n",
              "      border-right-color: var(--fill-color);\n",
              "    }\n",
              "    40% {\n",
              "      border-color: transparent;\n",
              "      border-right-color: var(--fill-color);\n",
              "      border-top-color: var(--fill-color);\n",
              "    }\n",
              "    60% {\n",
              "      border-color: transparent;\n",
              "      border-right-color: var(--fill-color);\n",
              "    }\n",
              "    80% {\n",
              "      border-color: transparent;\n",
              "      border-right-color: var(--fill-color);\n",
              "      border-bottom-color: var(--fill-color);\n",
              "    }\n",
              "    90% {\n",
              "      border-color: transparent;\n",
              "      border-bottom-color: var(--fill-color);\n",
              "    }\n",
              "  }\n",
              "</style>\n",
              "\n",
              "      <script>\n",
              "        async function quickchart(key) {\n",
              "          const quickchartButtonEl =\n",
              "            document.querySelector('#' + key + ' button');\n",
              "          quickchartButtonEl.disabled = true;  // To prevent multiple clicks.\n",
              "          quickchartButtonEl.classList.add('colab-df-spinner');\n",
              "          try {\n",
              "            const charts = await google.colab.kernel.invokeFunction(\n",
              "                'suggestCharts', [key], {});\n",
              "          } catch (error) {\n",
              "            console.error('Error during call to suggestCharts:', error);\n",
              "          }\n",
              "          quickchartButtonEl.classList.remove('colab-df-spinner');\n",
              "          quickchartButtonEl.classList.add('colab-df-quickchart-complete');\n",
              "        }\n",
              "        (() => {\n",
              "          let quickchartButtonEl =\n",
              "            document.querySelector('#df-87386f43-f82e-43d1-a854-a01b12a2e65c button');\n",
              "          quickchartButtonEl.style.display =\n",
              "            google.colab.kernel.accessAllowed ? 'block' : 'none';\n",
              "        })();\n",
              "      </script>\n",
              "    </div>\n",
              "\n",
              "    </div>\n",
              "  </div>\n"
            ],
            "application/vnd.google.colaboratory.intrinsic+json": {
              "type": "dataframe",
              "variable_name": "df"
            }
          },
          "metadata": {},
          "execution_count": 470
        }
      ]
    },
    {
      "cell_type": "markdown",
      "source": [
        "####-- Data Preprocessing --"
      ],
      "metadata": {
        "id": "nLE93iyI1M7f"
      }
    },
    {
      "cell_type": "code",
      "source": [
        "# -- Removing CustomerID column --\n",
        "df.drop(['StockCode','Description','Country'], axis=1, inplace=True)"
      ],
      "metadata": {
        "id": "8PJ5agr6zrUp"
      },
      "execution_count": 471,
      "outputs": []
    },
    {
      "cell_type": "code",
      "source": [
        "# -- Removing NaN values --\n",
        "df.dropna(inplace=True)"
      ],
      "metadata": {
        "id": "ivjRCmBhvAtx"
      },
      "execution_count": 472,
      "outputs": []
    },
    {
      "cell_type": "code",
      "source": [
        "# -- Checking duplicates --\n",
        "df.duplicated().value_counts()"
      ],
      "metadata": {
        "id": "Rcjq_C18vB0T",
        "colab": {
          "base_uri": "https://localhost:8080/",
          "height": 146
        },
        "outputId": "239664bf-96cb-48c3-e61f-b80202b275a0"
      },
      "execution_count": 473,
      "outputs": [
        {
          "output_type": "execute_result",
          "data": {
            "text/plain": [
              "False    255400\n",
              "True     151429\n",
              "Name: count, dtype: int64"
            ],
            "text/html": [
              "<div>\n",
              "<style scoped>\n",
              "    .dataframe tbody tr th:only-of-type {\n",
              "        vertical-align: middle;\n",
              "    }\n",
              "\n",
              "    .dataframe tbody tr th {\n",
              "        vertical-align: top;\n",
              "    }\n",
              "\n",
              "    .dataframe thead th {\n",
              "        text-align: right;\n",
              "    }\n",
              "</style>\n",
              "<table border=\"1\" class=\"dataframe\">\n",
              "  <thead>\n",
              "    <tr style=\"text-align: right;\">\n",
              "      <th></th>\n",
              "      <th>count</th>\n",
              "    </tr>\n",
              "  </thead>\n",
              "  <tbody>\n",
              "    <tr>\n",
              "      <th>False</th>\n",
              "      <td>255400</td>\n",
              "    </tr>\n",
              "    <tr>\n",
              "      <th>True</th>\n",
              "      <td>151429</td>\n",
              "    </tr>\n",
              "  </tbody>\n",
              "</table>\n",
              "</div><br><label><b>dtype:</b> int64</label>"
            ]
          },
          "metadata": {},
          "execution_count": 473
        }
      ]
    },
    {
      "cell_type": "code",
      "source": [
        "# -- Dropping duplicates --\n",
        "df.drop_duplicates(inplace=True)"
      ],
      "metadata": {
        "id": "CTpOQbjFvCUX"
      },
      "execution_count": 474,
      "outputs": []
    },
    {
      "cell_type": "markdown",
      "source": [
        "####-- Column-wise Preprocessing --"
      ],
      "metadata": {
        "id": "HzRmHhufvL2Q"
      }
    },
    {
      "cell_type": "code",
      "source": [
        "# -- Converting alpha-numeric 'InvoiceNo' column to numeric --\n",
        "df['InvoiceNo'].replace(r'[A-Za-z]', '', regex=True, inplace=True)\n",
        "df['InvoiceNo'] = pd.to_numeric(df['InvoiceNo'])"
      ],
      "metadata": {
        "id": "gBuIfUdi-Cgw"
      },
      "execution_count": 475,
      "outputs": []
    },
    {
      "cell_type": "code",
      "source": [
        "# -- Checking values in 'Quantity' column --\n",
        "df['Quantity'].apply(lambda x: f\"{x:.0f}\").sort_values(ascending=True).unique()"
      ],
      "metadata": {
        "id": "CVon94RTqFos",
        "colab": {
          "base_uri": "https://localhost:8080/"
        },
        "outputId": "05db9ec5-f011-4ec2-f9fe-719d286c9225"
      },
      "execution_count": 476,
      "outputs": [
        {
          "output_type": "execute_result",
          "data": {
            "text/plain": [
              "array(['-1', '-10', '-100', '-102', '-108', '-11', '-110', '-112', '-113',\n",
              "       '-12', '-120', '-1200', '-121', '-126', '-1296', '-13', '-130',\n",
              "       '-1300', '-132', '-1350', '-14', '-140', '-144', '-15', '-150',\n",
              "       '-1515', '-152', '-16', '-160', '-162', '-164', '-168', '-17',\n",
              "       '-18', '-180', '-184', '-186', '-19', '-192', '-1930', '-2', '-20',\n",
              "       '-200', '-2000', '-21', '-22', '-220', '-23', '-234', '-24',\n",
              "       '-240', '-244', '-25', '-250', '-252', '-26', '-27', '-276', '-28',\n",
              "       '-288', '-29', '-3', '-30', '-300', '-31', '-3114', '-312', '-318',\n",
              "       '-32', '-324', '-33', '-334', '-34', '-35', '-36', '-360', '-37',\n",
              "       '-38', '-39', '-4', '-40', '-400', '-408', '-42', '-420', '-43',\n",
              "       '-432', '-45', '-46', '-468', '-47', '-48', '-480', '-49', '-5',\n",
              "       '-50', '-500', '-51', '-52', '-53', '-576', '-58', '-6', '-60',\n",
              "       '-600', '-624', '-64', '-66', '-67', '-670', '-68', '-7', '-70',\n",
              "       '-701', '-72', '-720', '-74215', '-75', '-756', '-76', '-79', '-8',\n",
              "       '-80', '-80995', '-82', '-828', '-840', '-85', '-86', '-9',\n",
              "       '-9360', '-94', '-96', '-960', '1', '10', '100', '1000', '1008',\n",
              "       '101', '1010', '102', '1020', '104', '1056', '108', '109', '11',\n",
              "       '110', '112', '1120', '114', '115', '1152', '116', '117', '12',\n",
              "       '120', '1200', '121', '124', '125', '12540', '126', '128', '1284',\n",
              "       '129', '1296', '13', '130', '1300', '132', '1350', '1356', '136',\n",
              "       '139', '1394', '14', '140', '1400', '1404', '141', '1412', '1428',\n",
              "       '144', '1440', '147', '1488', '15', '150', '1500', '151', '1515',\n",
              "       '152', '1540', '156', '157', '16', '160', '1600', '162', '168',\n",
              "       '17', '1728', '176', '1788', '18', '180', '1824', '183', '186',\n",
              "       '1878', '188', '19', '1900', '192', '1930', '1944', '196', '198',\n",
              "       '1992', '2', '20', '200', '2000', '204', '2040', '208', '21',\n",
              "       '210', '2100', '216', '2160', '22', '220', '222', '224', '227',\n",
              "       '228', '23', '230', '232', '234', '236', '24', '240', '2400',\n",
              "       '244', '246', '248', '25', '250', '252', '255', '256', '2592',\n",
              "       '26', '261', '264', '27', '270', '2700', '272', '273', '276', '28',\n",
              "       '280', '288', '2880', '29', '291', '3', '30', '300', '3000', '304',\n",
              "       '306', '31', '3114', '312', '3186', '32', '320', '323', '324',\n",
              "       '33', '330', '336', '34', '342', '348', '35', '350', '352', '36',\n",
              "       '360', '37', '378', '38', '384', '388', '39', '3906', '392', '396',\n",
              "       '4', '40', '400', '402', '407', '408', '41', '410', '416', '42',\n",
              "       '420', '428', '43', '430', '4300', '432', '44', '448', '45', '450',\n",
              "       '456', '46', '462', '468', '47', '48', '480', '4800', '49', '490',\n",
              "       '492', '494', '496', '5', '50', '500', '504', '51', '512', '52',\n",
              "       '528', '53', '54', '540', '55', '552', '56', '560', '57', '576',\n",
              "       '58', '588', '59', '6', '60', '600', '608', '612', '62', '620',\n",
              "       '624', '63', '630', '64', '640', '648', '65', '66', '660', '666',\n",
              "       '67', '670', '672', '684', '69', '696', '698', '7', '70', '700',\n",
              "       '701', '708', '72', '720', '738', '74', '74215', '744', '75',\n",
              "       '756', '76', '760', '768', '774', '78', '79', '8', '80', '800',\n",
              "       '80995', '81', '824', '828', '83', '832', '84', '840', '85', '852',\n",
              "       '86', '860', '864', '87', '88', '888', '89', '9', '90', '900',\n",
              "       '906', '912', '92', '93', '94', '95', '96', '960', '968', '972',\n",
              "       '98', '992'], dtype=object)"
            ]
          },
          "metadata": {},
          "execution_count": 476
        }
      ]
    },
    {
      "cell_type": "code",
      "source": [
        "# -- Treating negative values in Quantity column --\n",
        "df['Quantity'] = df['Quantity'].abs()"
      ],
      "metadata": {
        "id": "kCR0R5XNmAHj"
      },
      "execution_count": 477,
      "outputs": []
    },
    {
      "cell_type": "code",
      "source": [
        "# -- Checking values in 'UnitPrice' column --\n",
        "df['UnitPrice'].apply(lambda x: f\"{x:.2f}\").sort_values(ascending=True).unique()"
      ],
      "metadata": {
        "id": "zB_oKbLJsnq0",
        "colab": {
          "base_uri": "https://localhost:8080/"
        },
        "outputId": "d0c8619d-5b82-4205-d92f-6033fbd45856"
      },
      "execution_count": 478,
      "outputs": [
        {
          "output_type": "execute_result",
          "data": {
            "text/plain": [
              "array(['0.00', '0.01', '0.03', '0.04', '0.06', '0.07', '0.08', '0.09',\n",
              "       '0.10', '0.11', '0.12', '0.14', '0.16', '0.17', '0.18', '0.19',\n",
              "       '0.20', '0.21', '0.22', '0.24', '0.25', '0.27', '0.28', '0.29',\n",
              "       '0.30', '0.32', '0.34', '0.35', '0.36', '0.37', '0.38', '0.39',\n",
              "       '0.40', '0.41', '0.42', '0.45', '0.48', '0.50', '0.52', '0.53',\n",
              "       '0.55', '0.56', '0.58', '0.59', '0.62', '0.63', '0.64', '0.65',\n",
              "       '0.66', '0.67', '0.68', '0.69', '0.70', '0.72', '0.73', '0.74',\n",
              "       '0.75', '0.76', '0.77', '0.78', '0.79', '0.80', '0.82', '0.83',\n",
              "       '0.85', '0.86', '0.87', '0.90', '0.91', '0.92', '0.94', '0.95',\n",
              "       '0.98', '1.00', '1.01', '1.02', '1.04', '1.05', '1.06', '1.08',\n",
              "       '1.10', '1.11', '1.12', '1.18', '1.19', '1.23', '1.24', '1.25',\n",
              "       '1.27', '1.31', '1.32', '1.38', '1.40', '1.43', '1.45', '1.46',\n",
              "       '1.48', '1.49', '1.50', '1.53', '1.55', '1.60', '1.63', '1.64',\n",
              "       '1.65', '1.66', '1.67', '1.68', '1.69', '1.70', '1.71', '1.72',\n",
              "       '1.74', '1.75', '1.76', '1.79', '1.80', '1.85', '1.86', '1.88',\n",
              "       '1.90', '1.92', '1.93', '1.95', '1.96', '1.97', '1.98', '10.00',\n",
              "       '10.06', '10.13', '10.34', '10.39', '10.40', '10.65', '10.75',\n",
              "       '10.79', '10.95', '102.24', '1038.75', '106.40', '11.00', '11.15',\n",
              "       '11.17', '11.52', '11.59', '11.63', '11.67', '11.70', '11.76',\n",
              "       '11.84', '11.95', '110.00', '110.43', '110.45', '1100.44',\n",
              "       '112.35', '1121.18', '1126.00', '1136.30', '12.00', '12.15',\n",
              "       '12.34', '12.46', '12.48', '12.50', '12.75', '12.95', '12.98',\n",
              "       '12.99', '120.00', '120.58', '1241.98', '125.00', '1252.95',\n",
              "       '1270.06', '129.38', '129.90', '13.00', '13.01', '13.16', '13.29',\n",
              "       '13.35', '13.88', '13.99', '134.00', '14.13', '14.42', '14.50',\n",
              "       '14.52', '14.55', '14.88', '14.95', '14.96', '145.00', '15.00',\n",
              "       '15.05', '15.07', '15.79', '15.95', '15.96', '150.00', '1500.36',\n",
              "       '152.78', '1526.76', '158.21', '1592.49', '1599.26', '16.05',\n",
              "       '16.07', '16.46', '16.63', '16.65', '16.67', '16.74', '16.76',\n",
              "       '16.95', '162.24', '162.60', '165.00', '1687.17', '17.00', '17.55',\n",
              "       '1715.85', '175.00', '18.00', '18.62', '18.95', '1829.84',\n",
              "       '183.00', '183.75', '1867.86', '19.82', '19.84', '19.94', '19.95',\n",
              "       '19.96', '190.80', '195.00', '2.00', '2.02', '2.04', '2.08',\n",
              "       '2.10', '2.12', '2.16', '2.17', '2.21', '2.22', '2.25', '2.26',\n",
              "       '2.30', '2.31', '2.32', '2.33', '2.35', '2.39', '2.40', '2.41',\n",
              "       '2.42', '2.46', '2.48', '2.49', '2.50', '2.55', '2.60', '2.62',\n",
              "       '2.65', '2.66', '2.67', '2.69', '2.70', '2.75', '2.84', '2.85',\n",
              "       '2.88', '2.89', '2.90', '2.92', '2.95', '2.96', '2.99', '20.00',\n",
              "       '20.50', '20.53', '20.75', '20.80', '20.92', '200.00', '2033.10',\n",
              "       '2053.07', '206.40', '208.16', '208.34', '21.00', '21.78', '21.95',\n",
              "       '2118.74', '218.72', '219.50', '22.97', '222.75', '224.69',\n",
              "       '23.27', '2382.92', '239.30', '24.95', '24.96', '240.00', '25.00',\n",
              "       '25.95', '250.00', '2500.00', '26.05', '26.33', '26.93', '26.95',\n",
              "       '262.73', '265.50', '267.12', '27.00', '27.26', '27.50', '275.60',\n",
              "       '28.00', '28.04', '28.68', '280.05', '281.00', '283.02', '29.13',\n",
              "       '29.29', '29.95', '293.00', '294.92', '295.00', '3.00', '3.12',\n",
              "       '3.13', '3.15', '3.16', '3.20', '3.21', '3.24', '3.25', '3.26',\n",
              "       '3.28', '3.29', '3.30', '3.32', '3.35', '3.37', '3.38', '3.39',\n",
              "       '3.40', '3.44', '3.45', '3.49', '3.50', '3.52', '3.56', '3.57',\n",
              "       '3.58', '3.71', '3.74', '3.75', '3.81', '3.82', '3.85', '3.86',\n",
              "       '3.88', '3.89', '3.90', '3.91', '3.92', '3.95', '3.96', '3.97',\n",
              "       '3.98', '30.00', '30.19', '30.38', '300.00', '3060.60', '308.82',\n",
              "       '3155.95', '32.22', '32.69', '32.95', '320.69', '33.29', '33.75',\n",
              "       '334.71', '339.02', '34.95', '345.03', '35.00', '35.75', '35.95',\n",
              "       '350.00', '36.30', '36.50', '361.59', '37.50', '376.50', '38.39',\n",
              "       '389.68', '38970.00', '39.70', '39.95', '3949.32', '4.00', '4.02',\n",
              "       '4.04', '4.05', '4.08', '4.13', '4.14', '4.15', '4.18', '4.25',\n",
              "       '4.27', '4.30', '4.37', '4.40', '4.41', '4.50', '4.58', '4.60',\n",
              "       '4.62', '4.65', '4.67', '4.68', '4.70', '4.76', '4.77', '4.78',\n",
              "       '4.80', '4.86', '4.90', '4.95', '4.96', '4.98', '40.00', '40.46',\n",
              "       '400.00', '41.75', '411.92', '4161.06', '42.00', '42.50', '42.95',\n",
              "       '424.06', '425.14', '4287.63', '43.63', '434.51', '447.56',\n",
              "       '45.00', '45.33', '45.57', '45.60', '451.42', '464.90', '48.00',\n",
              "       '49.95', '490.25', '495.98', '5.00', '5.06', '5.08', '5.10',\n",
              "       '5.13', '5.14', '5.15', '5.17', '5.18', '5.32', '5.35', '5.39',\n",
              "       '5.45', '5.49', '5.50', '5.55', '5.64', '5.66', '5.68', '5.70',\n",
              "       '5.72', '5.75', '5.76', '5.79', '5.80', '5.88', '5.95', '50.00',\n",
              "       '517.51', '52.24', '52.77', '523.00', '545.58', '549.34', '550.64',\n",
              "       '550.94', '557.72', '57.60', '57.95', '59.95', '599.50', '6.00',\n",
              "       '6.25', '6.35', '6.36', '6.38', '6.40', '6.42', '6.45', '6.50',\n",
              "       '6.60', '6.63', '6.65', '6.67', '6.70', '6.71', '6.72', '6.75',\n",
              "       '6.76', '6.78', '6.79', '6.89', '6.91', '6.95', '6.98', '60.00',\n",
              "       '600.00', '606.00', '608.66', '611.86', '635.01', '638.30',\n",
              "       '64.00', '64.11', '64.27', '649.50', '65.00', '65.91', '66.17',\n",
              "       '66.24', '682.05', '688.08', '6930.00', '7.00', '7.05', '7.06',\n",
              "       '7.08', '7.13', '7.25', '7.45', '7.46', '7.50', '7.60', '7.62',\n",
              "       '7.65', '7.84', '7.85', '7.88', '7.90', '7.95', '70.01', '700.00',\n",
              "       '705.45', '71.46', '717.23', '743.62', '75.00', '79.20', '79.68',\n",
              "       '79.95', '8.00', '8.12', '8.15', '8.25', '8.29', '8.49', '8.50',\n",
              "       '8.65', '8.87', '8.95', '80.00', '8142.75', '82.50', '84.80',\n",
              "       '849.93', '85.00', '85.58', '850.50', '852.80', '856.48', '87.40',\n",
              "       '878.55', '9.13', '9.15', '9.16', '9.36', '9.42', '9.60', '9.72',\n",
              "       '9.84', '9.87', '9.89', '9.95', '9.96', '9.98', '90.00', '901.58',\n",
              "       '907.00', '908.16', '929.90', '97.14', '987.14'], dtype=object)"
            ]
          },
          "metadata": {},
          "execution_count": 478
        }
      ]
    },
    {
      "cell_type": "code",
      "source": [
        "# -- Treating rows with UnitPrice = 0 --\n",
        "df = df[df['UnitPrice'] > 0]"
      ],
      "metadata": {
        "id": "aR2Qz_CgmfBK"
      },
      "execution_count": 479,
      "outputs": []
    },
    {
      "cell_type": "code",
      "source": [
        "# -- Adding column 'TotalPrice' --\n",
        "df['TotalPrice'] = df['Quantity'] * df['UnitPrice']"
      ],
      "metadata": {
        "id": "qRTfQNJXxxc6"
      },
      "execution_count": 480,
      "outputs": []
    },
    {
      "cell_type": "markdown",
      "source": [
        "-- Using RFM Analysis --"
      ],
      "metadata": {
        "id": "t0rKXYSB7bsW"
      }
    },
    {
      "cell_type": "code",
      "source": [
        "# -- Entracting features from 'datetime' --\n",
        "reference_date = df['InvoiceDate'].max() + pd.Timedelta(days=1)\n",
        "\n",
        "rfm = df.groupby('CustomerID').agg({\n",
        "    'InvoiceDate':lambda x : (reference_date-x.max()).days,\n",
        "    'InvoiceNo':'nunique',\n",
        "    'TotalPrice':'sum'\n",
        "}).reset_index()\n",
        "\n",
        "rfm.columns = ['CustomerID', 'Recency', 'Frequency', 'Monetary']"
      ],
      "metadata": {
        "id": "Mf8uqpwh7fha"
      },
      "execution_count": 481,
      "outputs": []
    },
    {
      "cell_type": "code",
      "source": [
        "rfm.head()"
      ],
      "metadata": {
        "colab": {
          "base_uri": "https://localhost:8080/",
          "height": 206
        },
        "id": "iqxONftWEcu2",
        "outputId": "6333e02b-9928-481f-8106-990ca5e037e1"
      },
      "execution_count": 482,
      "outputs": [
        {
          "output_type": "execute_result",
          "data": {
            "text/plain": [
              "   CustomerID  Recency  Frequency   Monetary\n",
              "0     12346.0      326          2  154367.20\n",
              "1     12347.0        2          7    3125.98\n",
              "2     12348.0       75          4    1399.80\n",
              "3     12349.0       19          1    1209.49\n",
              "4     12350.0      310          1     174.20"
            ],
            "text/html": [
              "\n",
              "  <div id=\"df-92118945-7079-48fc-bd72-78b892545646\" class=\"colab-df-container\">\n",
              "    <div>\n",
              "<style scoped>\n",
              "    .dataframe tbody tr th:only-of-type {\n",
              "        vertical-align: middle;\n",
              "    }\n",
              "\n",
              "    .dataframe tbody tr th {\n",
              "        vertical-align: top;\n",
              "    }\n",
              "\n",
              "    .dataframe thead th {\n",
              "        text-align: right;\n",
              "    }\n",
              "</style>\n",
              "<table border=\"1\" class=\"dataframe\">\n",
              "  <thead>\n",
              "    <tr style=\"text-align: right;\">\n",
              "      <th></th>\n",
              "      <th>CustomerID</th>\n",
              "      <th>Recency</th>\n",
              "      <th>Frequency</th>\n",
              "      <th>Monetary</th>\n",
              "    </tr>\n",
              "  </thead>\n",
              "  <tbody>\n",
              "    <tr>\n",
              "      <th>0</th>\n",
              "      <td>12346.0</td>\n",
              "      <td>326</td>\n",
              "      <td>2</td>\n",
              "      <td>154367.20</td>\n",
              "    </tr>\n",
              "    <tr>\n",
              "      <th>1</th>\n",
              "      <td>12347.0</td>\n",
              "      <td>2</td>\n",
              "      <td>7</td>\n",
              "      <td>3125.98</td>\n",
              "    </tr>\n",
              "    <tr>\n",
              "      <th>2</th>\n",
              "      <td>12348.0</td>\n",
              "      <td>75</td>\n",
              "      <td>4</td>\n",
              "      <td>1399.80</td>\n",
              "    </tr>\n",
              "    <tr>\n",
              "      <th>3</th>\n",
              "      <td>12349.0</td>\n",
              "      <td>19</td>\n",
              "      <td>1</td>\n",
              "      <td>1209.49</td>\n",
              "    </tr>\n",
              "    <tr>\n",
              "      <th>4</th>\n",
              "      <td>12350.0</td>\n",
              "      <td>310</td>\n",
              "      <td>1</td>\n",
              "      <td>174.20</td>\n",
              "    </tr>\n",
              "  </tbody>\n",
              "</table>\n",
              "</div>\n",
              "    <div class=\"colab-df-buttons\">\n",
              "\n",
              "  <div class=\"colab-df-container\">\n",
              "    <button class=\"colab-df-convert\" onclick=\"convertToInteractive('df-92118945-7079-48fc-bd72-78b892545646')\"\n",
              "            title=\"Convert this dataframe to an interactive table.\"\n",
              "            style=\"display:none;\">\n",
              "\n",
              "  <svg xmlns=\"http://www.w3.org/2000/svg\" height=\"24px\" viewBox=\"0 -960 960 960\">\n",
              "    <path d=\"M120-120v-720h720v720H120Zm60-500h600v-160H180v160Zm220 220h160v-160H400v160Zm0 220h160v-160H400v160ZM180-400h160v-160H180v160Zm440 0h160v-160H620v160ZM180-180h160v-160H180v160Zm440 0h160v-160H620v160Z\"/>\n",
              "  </svg>\n",
              "    </button>\n",
              "\n",
              "  <style>\n",
              "    .colab-df-container {\n",
              "      display:flex;\n",
              "      gap: 12px;\n",
              "    }\n",
              "\n",
              "    .colab-df-convert {\n",
              "      background-color: #E8F0FE;\n",
              "      border: none;\n",
              "      border-radius: 50%;\n",
              "      cursor: pointer;\n",
              "      display: none;\n",
              "      fill: #1967D2;\n",
              "      height: 32px;\n",
              "      padding: 0 0 0 0;\n",
              "      width: 32px;\n",
              "    }\n",
              "\n",
              "    .colab-df-convert:hover {\n",
              "      background-color: #E2EBFA;\n",
              "      box-shadow: 0px 1px 2px rgba(60, 64, 67, 0.3), 0px 1px 3px 1px rgba(60, 64, 67, 0.15);\n",
              "      fill: #174EA6;\n",
              "    }\n",
              "\n",
              "    .colab-df-buttons div {\n",
              "      margin-bottom: 4px;\n",
              "    }\n",
              "\n",
              "    [theme=dark] .colab-df-convert {\n",
              "      background-color: #3B4455;\n",
              "      fill: #D2E3FC;\n",
              "    }\n",
              "\n",
              "    [theme=dark] .colab-df-convert:hover {\n",
              "      background-color: #434B5C;\n",
              "      box-shadow: 0px 1px 3px 1px rgba(0, 0, 0, 0.15);\n",
              "      filter: drop-shadow(0px 1px 2px rgba(0, 0, 0, 0.3));\n",
              "      fill: #FFFFFF;\n",
              "    }\n",
              "  </style>\n",
              "\n",
              "    <script>\n",
              "      const buttonEl =\n",
              "        document.querySelector('#df-92118945-7079-48fc-bd72-78b892545646 button.colab-df-convert');\n",
              "      buttonEl.style.display =\n",
              "        google.colab.kernel.accessAllowed ? 'block' : 'none';\n",
              "\n",
              "      async function convertToInteractive(key) {\n",
              "        const element = document.querySelector('#df-92118945-7079-48fc-bd72-78b892545646');\n",
              "        const dataTable =\n",
              "          await google.colab.kernel.invokeFunction('convertToInteractive',\n",
              "                                                    [key], {});\n",
              "        if (!dataTable) return;\n",
              "\n",
              "        const docLinkHtml = 'Like what you see? Visit the ' +\n",
              "          '<a target=\"_blank\" href=https://colab.research.google.com/notebooks/data_table.ipynb>data table notebook</a>'\n",
              "          + ' to learn more about interactive tables.';\n",
              "        element.innerHTML = '';\n",
              "        dataTable['output_type'] = 'display_data';\n",
              "        await google.colab.output.renderOutput(dataTable, element);\n",
              "        const docLink = document.createElement('div');\n",
              "        docLink.innerHTML = docLinkHtml;\n",
              "        element.appendChild(docLink);\n",
              "      }\n",
              "    </script>\n",
              "  </div>\n",
              "\n",
              "\n",
              "    <div id=\"df-1cdf18da-2a30-4531-9410-0f97a67f2cbe\">\n",
              "      <button class=\"colab-df-quickchart\" onclick=\"quickchart('df-1cdf18da-2a30-4531-9410-0f97a67f2cbe')\"\n",
              "                title=\"Suggest charts\"\n",
              "                style=\"display:none;\">\n",
              "\n",
              "<svg xmlns=\"http://www.w3.org/2000/svg\" height=\"24px\"viewBox=\"0 0 24 24\"\n",
              "     width=\"24px\">\n",
              "    <g>\n",
              "        <path d=\"M19 3H5c-1.1 0-2 .9-2 2v14c0 1.1.9 2 2 2h14c1.1 0 2-.9 2-2V5c0-1.1-.9-2-2-2zM9 17H7v-7h2v7zm4 0h-2V7h2v10zm4 0h-2v-4h2v4z\"/>\n",
              "    </g>\n",
              "</svg>\n",
              "      </button>\n",
              "\n",
              "<style>\n",
              "  .colab-df-quickchart {\n",
              "      --bg-color: #E8F0FE;\n",
              "      --fill-color: #1967D2;\n",
              "      --hover-bg-color: #E2EBFA;\n",
              "      --hover-fill-color: #174EA6;\n",
              "      --disabled-fill-color: #AAA;\n",
              "      --disabled-bg-color: #DDD;\n",
              "  }\n",
              "\n",
              "  [theme=dark] .colab-df-quickchart {\n",
              "      --bg-color: #3B4455;\n",
              "      --fill-color: #D2E3FC;\n",
              "      --hover-bg-color: #434B5C;\n",
              "      --hover-fill-color: #FFFFFF;\n",
              "      --disabled-bg-color: #3B4455;\n",
              "      --disabled-fill-color: #666;\n",
              "  }\n",
              "\n",
              "  .colab-df-quickchart {\n",
              "    background-color: var(--bg-color);\n",
              "    border: none;\n",
              "    border-radius: 50%;\n",
              "    cursor: pointer;\n",
              "    display: none;\n",
              "    fill: var(--fill-color);\n",
              "    height: 32px;\n",
              "    padding: 0;\n",
              "    width: 32px;\n",
              "  }\n",
              "\n",
              "  .colab-df-quickchart:hover {\n",
              "    background-color: var(--hover-bg-color);\n",
              "    box-shadow: 0 1px 2px rgba(60, 64, 67, 0.3), 0 1px 3px 1px rgba(60, 64, 67, 0.15);\n",
              "    fill: var(--button-hover-fill-color);\n",
              "  }\n",
              "\n",
              "  .colab-df-quickchart-complete:disabled,\n",
              "  .colab-df-quickchart-complete:disabled:hover {\n",
              "    background-color: var(--disabled-bg-color);\n",
              "    fill: var(--disabled-fill-color);\n",
              "    box-shadow: none;\n",
              "  }\n",
              "\n",
              "  .colab-df-spinner {\n",
              "    border: 2px solid var(--fill-color);\n",
              "    border-color: transparent;\n",
              "    border-bottom-color: var(--fill-color);\n",
              "    animation:\n",
              "      spin 1s steps(1) infinite;\n",
              "  }\n",
              "\n",
              "  @keyframes spin {\n",
              "    0% {\n",
              "      border-color: transparent;\n",
              "      border-bottom-color: var(--fill-color);\n",
              "      border-left-color: var(--fill-color);\n",
              "    }\n",
              "    20% {\n",
              "      border-color: transparent;\n",
              "      border-left-color: var(--fill-color);\n",
              "      border-top-color: var(--fill-color);\n",
              "    }\n",
              "    30% {\n",
              "      border-color: transparent;\n",
              "      border-left-color: var(--fill-color);\n",
              "      border-top-color: var(--fill-color);\n",
              "      border-right-color: var(--fill-color);\n",
              "    }\n",
              "    40% {\n",
              "      border-color: transparent;\n",
              "      border-right-color: var(--fill-color);\n",
              "      border-top-color: var(--fill-color);\n",
              "    }\n",
              "    60% {\n",
              "      border-color: transparent;\n",
              "      border-right-color: var(--fill-color);\n",
              "    }\n",
              "    80% {\n",
              "      border-color: transparent;\n",
              "      border-right-color: var(--fill-color);\n",
              "      border-bottom-color: var(--fill-color);\n",
              "    }\n",
              "    90% {\n",
              "      border-color: transparent;\n",
              "      border-bottom-color: var(--fill-color);\n",
              "    }\n",
              "  }\n",
              "</style>\n",
              "\n",
              "      <script>\n",
              "        async function quickchart(key) {\n",
              "          const quickchartButtonEl =\n",
              "            document.querySelector('#' + key + ' button');\n",
              "          quickchartButtonEl.disabled = true;  // To prevent multiple clicks.\n",
              "          quickchartButtonEl.classList.add('colab-df-spinner');\n",
              "          try {\n",
              "            const charts = await google.colab.kernel.invokeFunction(\n",
              "                'suggestCharts', [key], {});\n",
              "          } catch (error) {\n",
              "            console.error('Error during call to suggestCharts:', error);\n",
              "          }\n",
              "          quickchartButtonEl.classList.remove('colab-df-spinner');\n",
              "          quickchartButtonEl.classList.add('colab-df-quickchart-complete');\n",
              "        }\n",
              "        (() => {\n",
              "          let quickchartButtonEl =\n",
              "            document.querySelector('#df-1cdf18da-2a30-4531-9410-0f97a67f2cbe button');\n",
              "          quickchartButtonEl.style.display =\n",
              "            google.colab.kernel.accessAllowed ? 'block' : 'none';\n",
              "        })();\n",
              "      </script>\n",
              "    </div>\n",
              "\n",
              "    </div>\n",
              "  </div>\n"
            ],
            "application/vnd.google.colaboratory.intrinsic+json": {
              "type": "dataframe",
              "variable_name": "rfm",
              "summary": "{\n  \"name\": \"rfm\",\n  \"rows\": 4371,\n  \"fields\": [\n    {\n      \"column\": \"CustomerID\",\n      \"properties\": {\n        \"dtype\": \"number\",\n        \"std\": 1722.3102618744047,\n        \"min\": 12346.0,\n        \"max\": 18287.0,\n        \"num_unique_values\": 4371,\n        \"samples\": [\n          15081.0,\n          12930.0,\n          12956.0\n        ],\n        \"semantic_type\": \"\",\n        \"description\": \"\"\n      }\n    },\n    {\n      \"column\": \"Recency\",\n      \"properties\": {\n        \"dtype\": \"number\",\n        \"std\": 100,\n        \"min\": 1,\n        \"max\": 374,\n        \"num_unique_values\": 349,\n        \"samples\": [\n          148,\n          340,\n          270\n        ],\n        \"semantic_type\": \"\",\n        \"description\": \"\"\n      }\n    },\n    {\n      \"column\": \"Frequency\",\n      \"properties\": {\n        \"dtype\": \"number\",\n        \"std\": 9,\n        \"min\": 1,\n        \"max\": 248,\n        \"num_unique_values\": 64,\n        \"samples\": [\n          128,\n          54,\n          2\n        ],\n        \"semantic_type\": \"\",\n        \"description\": \"\"\n      }\n    },\n    {\n      \"column\": \"Monetary\",\n      \"properties\": {\n        \"dtype\": \"number\",\n        \"std\": 8788.857884782126,\n        \"min\": 1.25,\n        \"max\": 336942.1,\n        \"num_unique_values\": 4270,\n        \"samples\": [\n          367.95,\n          199.8,\n          4302.4\n        ],\n        \"semantic_type\": \"\",\n        \"description\": \"\"\n      }\n    }\n  ]\n}"
            }
          },
          "metadata": {},
          "execution_count": 482
        }
      ]
    },
    {
      "cell_type": "markdown",
      "source": [
        "-- Scaling data --"
      ],
      "metadata": {
        "id": "ZWKWHPIuAKgk"
      }
    },
    {
      "cell_type": "code",
      "source": [
        "# -- Feature Scaling --\n",
        "scaler = StandardScaler()\n",
        "rfm_scaled = scaler.fit_transform(rfm[['Recency', 'Frequency', 'Monetary']])"
      ],
      "metadata": {
        "id": "scuWODKxz58-"
      },
      "execution_count": 483,
      "outputs": []
    },
    {
      "cell_type": "markdown",
      "source": [
        "####-- Multi-Model Training --"
      ],
      "metadata": {
        "id": "UR8bqHSw224m"
      }
    },
    {
      "cell_type": "markdown",
      "source": [
        "-- K-Means Clustering --"
      ],
      "metadata": {
        "id": "zARgdt3I5YCQ"
      }
    },
    {
      "cell_type": "code",
      "source": [
        "# -- Elbow method --\n",
        "wcss = []\n",
        "for i in range(1, 11):\n",
        "    kmeans = KMeans(n_clusters=i, random_state=42)\n",
        "    kmeans.fit(rfm_scaled)\n",
        "    wcss.append(kmeans.inertia_)"
      ],
      "metadata": {
        "id": "qTsNp6NICDSx"
      },
      "execution_count": 484,
      "outputs": []
    },
    {
      "cell_type": "code",
      "source": [
        "# -- Plotting elbow curve --\n",
        "plt.plot(range(1, 11), wcss, marker='o')\n",
        "plt.title(\"Elbow Method\")\n",
        "plt.xlabel(\"Number of Clusters\")\n",
        "plt.ylabel(\"WCSS\")\n",
        "plt.show()"
      ],
      "metadata": {
        "colab": {
          "base_uri": "https://localhost:8080/",
          "height": 472
        },
        "id": "THiJ2isL2AXB",
        "outputId": "85977230-a615-438d-e45f-cbfd3d2f2774"
      },
      "execution_count": 485,
      "outputs": [
        {
          "output_type": "display_data",
          "data": {
            "text/plain": [
              "<Figure size 640x480 with 1 Axes>"
            ],
            "image/png": "[encoded data removed]"
          },
          "metadata": {}
        }
      ]
    },
    {
      "cell_type": "markdown",
      "source": [
        "Selecting k = 5 for K-means clustering"
      ],
      "metadata": {
        "id": "1f4SmRJi3C-k"
      }
    },
    {
      "cell_type": "code",
      "source": [
        "# -- Training Model --\n",
        "kmeans = KMeans(n_clusters=5, random_state=42)\n",
        "kmeans_labels = kmeans.fit_predict(rfm_scaled)\n",
        "score_kmeans = silhouette_score(rfm_scaled, kmeans_labels)"
      ],
      "metadata": {
        "id": "gDFd2SuG3F-a"
      },
      "execution_count": 486,
      "outputs": []
    },
    {
      "cell_type": "markdown",
      "source": [
        "-- Agglomerative Clustering --"
      ],
      "metadata": {
        "id": "2LIZBFlZ5ch1"
      }
    },
    {
      "cell_type": "code",
      "source": [
        "# -- Training Model --\n",
        "agg = AgglomerativeClustering(n_clusters=5)\n",
        "agg_labels = agg.fit_predict(rfm_scaled)\n",
        "score_agg = silhouette_score(rfm_scaled, agg_labels)"
      ],
      "metadata": {
        "id": "2ajX1w-n5lvq"
      },
      "execution_count": 487,
      "outputs": []
    },
    {
      "cell_type": "markdown",
      "source": [
        "-- DBSCAN Clustering --"
      ],
      "metadata": {
        "id": "ooz6jQhM5hK8"
      }
    },
    {
      "cell_type": "code",
      "source": [
        "# -- Training Model --\n",
        "dbscan = DBSCAN(eps=0.3,min_samples=5)\n",
        "dbscan_labels = dbscan.fit_predict(rfm_scaled)\n",
        "score_dbscan = silhouette_score(rfm_scaled, dbscan_labels)\n",
        "print(f'{score_dbscan:.3f}')"
      ],
      "metadata": {
        "colab": {
          "base_uri": "https://localhost:8080/"
        },
        "id": "mnOVkd6QJCna",
        "outputId": "8440a0c1-a9c4-4b6e-8b0f-345a32332f42"
      },
      "execution_count": 488,
      "outputs": [
        {
          "output_type": "stream",
          "name": "stdout",
          "text": [
            "0.756\n"
          ]
        }
      ]
    },
    {
      "cell_type": "code",
      "source": [
        "# -- Comparing Evaluation Scores --\n",
        "print(f\"KMeans Silhouette Score      : {score_kmeans:.3f}\")\n",
        "print(f\"Agglomerative Silhouette Score: {score_agg:.3f}\")\n",
        "print(f\"DBSCAN Silhouette Score      : {score_dbscan:.3f}\")"
      ],
      "metadata": {
        "colab": {
          "base_uri": "https://localhost:8080/"
        },
        "id": "vC38jO2hJ97q",
        "outputId": "cb8f4b2d-48f0-4533-8099-bb1eb0a4931e"
      },
      "execution_count": 489,
      "outputs": [
        {
          "output_type": "stream",
          "name": "stdout",
          "text": [
            "KMeans Silhouette Score      : 0.602\n",
            "Agglomerative Silhouette Score: 0.563\n",
            "DBSCAN Silhouette Score      : 0.756\n"
          ]
        }
      ]
    },
    {
      "cell_type": "markdown",
      "source": [
        "DBSCAN has the best score, but it forms very few number of clusters (one or two)"
      ],
      "metadata": {
        "id": "6wDhdpmLiATk"
      }
    },
    {
      "cell_type": "markdown",
      "source": [
        "-- Visualizing Clusters --"
      ],
      "metadata": {
        "id": "AlE_RkOHZZGr"
      }
    },
    {
      "cell_type": "code",
      "source": [
        "rfm_scaled = pd.DataFrame(data=rfm_scaled,columns=['Recency', 'Frequency', 'Monetary'])\n",
        "\n",
        "plt.scatter(rfm_scaled['Frequency'], rfm_scaled['Monetary'], c=kmeans_labels, marker='o')\n",
        "plt.xlabel('Frequency')\n",
        "plt.ylabel('Monetary')\n",
        "plt.title('Plot of Frequency and Monetary')\n",
        "plt.show()"
      ],
      "metadata": {
        "colab": {
          "base_uri": "https://localhost:8080/",
          "height": 472
        },
        "id": "rSZYjBY_fadf",
        "outputId": "a3c8100f-13da-4686-e179-08c7154d3816"
      },
      "execution_count": 491,
      "outputs": [
        {
          "output_type": "display_data",
          "data": {
            "text/plain": [
              "<Figure size 640x480 with 1 Axes>"
            ],
            "image/png": "[encoded data removed]"
          },
          "metadata": {}
        }
      ]
    }
  ]
}